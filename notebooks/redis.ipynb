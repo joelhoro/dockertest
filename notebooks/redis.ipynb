{
 "cells": [
  {
   "cell_type": "code",
   "execution_count": 8,
   "id": "ea894551-4c2b-4abc-af93-84a8f103d607",
   "metadata": {},
   "outputs": [
    {
     "data": {
      "text/plain": [
       "[b'key-9',\n",
       " b'key-1',\n",
       " b'key-5',\n",
       " b'key-8',\n",
       " b'key-0',\n",
       " b'key-6',\n",
       " b'key-3',\n",
       " b'key-4',\n",
       " b'key-7',\n",
       " b'key-2']"
      ]
     },
     "execution_count": 8,
     "metadata": {},
     "output_type": "execute_result"
    }
   ],
   "source": [
    "from redis import Redis\n",
    "import sys\n",
    "\n",
    "HOST = 'localhost' if 'c:' in sys.executable else 'redis'\n",
    "r = Redis(host=HOST)\n",
    "r.keys('*')"
   ]
  },
  {
   "cell_type": "code",
   "execution_count": 7,
   "id": "de50df9f-5190-4faf-83f4-c46c514e8406",
   "metadata": {},
   "outputs": [
    {
     "name": "stdout",
     "output_type": "stream",
     "text": [
      "key-0\n",
      "key-1\n",
      "key-2\n",
      "key-3\n",
      "key-4\n",
      "key-5\n",
      "key-6\n",
      "key-7\n",
      "key-8\n",
      "key-9\n"
     ]
    }
   ],
   "source": [
    "for i in range(10):\n",
    "    key = f'key-{i}'\n",
    "    value = f'value-{i}'\n",
    "    print(key)\n",
    "    r.set(key,value)\n",
    "    \n"
   ]
  },
  {
   "cell_type": "code",
   "execution_count": null,
   "id": "4db579b5-668f-4c16-84ab-3bd180767a91",
   "metadata": {},
   "outputs": [],
   "source": []
  }
 ],
 "metadata": {
  "kernelspec": {
   "display_name": "Python 3 (ipykernel)",
   "language": "python",
   "name": "python3"
  },
  "language_info": {
   "codemirror_mode": {
    "name": "ipython",
    "version": 3
   },
   "file_extension": ".py",
   "mimetype": "text/x-python",
   "name": "python",
   "nbconvert_exporter": "python",
   "pygments_lexer": "ipython3",
   "version": "3.9.6"
  }
 },
 "nbformat": 4,
 "nbformat_minor": 5
}
